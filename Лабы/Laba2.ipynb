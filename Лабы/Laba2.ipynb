{
 "cells": [
  {
   "cell_type": "code",
   "execution_count": 11,
   "id": "58ff8bab-0795-4b9d-902d-d7917f387b0d",
   "metadata": {},
   "outputs": [],
   "source": [
    "import pygmo as pg\n",
    "import numpy as np\n",
    "from tabulate import tabulate\n",
    "\n",
    "# Функция сферы\n",
    "class Sphere:\n",
    "    def __init__(self, dim):\n",
    "        self.dim = dim\n",
    "        \n",
    "    def fitness(self, x):\n",
    "        return [sum(xi**2 for xi in x)]\n",
    "    \n",
    "    def get_bounds(self):\n",
    "        return ([-5.12] * self.dim, [5.12] * self.dim)\n",
    "    \n",
    "    def get_name(self):\n",
    "        return \"Sphere Function\"\n",
    "\n"
   ]
  },
  {
   "cell_type": "code",
   "execution_count": 12,
   "id": "dd9f8bfc-959e-4819-a84d-b54be50bfe2f",
   "metadata": {},
   "outputs": [],
   "source": [
    "# Функция Розенброка\n",
    "class Rosenbrock:\n",
    "    def __init__(self, dim):\n",
    "        self.dim = dim\n",
    "        \n",
    "    def fitness(self, x):\n",
    "        return [sum(100.0*(x[i+1] - x[i]**2)**2 + (1 - x[i])**2 for i in range(self.dim-1))]\n",
    "    \n",
    "    def get_bounds(self):\n",
    "        return ([-2.048] * self.dim, [2.048] * self.dim)\n",
    "    \n",
    "    def get_name(self):\n",
    "        return \"Rosenbrock Function\""
   ]
  },
  {
   "cell_type": "code",
   "execution_count": 5,
   "id": "caa1cb4c-3c90-42c5-b6a3-84dcd8870b43",
   "metadata": {},
   "outputs": [],
   "source": [
    "\n",
    "\n",
    "def optimize_and_print_results(prob, algorithms, problem_name, seed=42):\n",
    "    results = []\n",
    "    \n",
    "    print(f\"\\nOptimizing {problem_name}\")\n",
    "    print(\"=\"*50)\n",
    "    \n",
    "    for algo in algorithms:\n",
    "        algo.set_seed(seed)\n",
    "        \n",
    "        # Создаем и оптимизируем популяцию\n",
    "        pop = pg.population(prob, 50)\n",
    "        pop = algo.evolve(pop)\n",
    "        \n",
    "        # Получаем результаты\n",
    "        champion_f = pop.champion_f[0]\n",
    "        champion_x = pop.champion_x\n",
    "        \n",
    "        results.append({\n",
    "            'Algorithm': algo.get_name(),\n",
    "            'Best Fitness': champion_f,\n",
    "            'Best Solution': champion_x\n",
    "        })\n",
    "        \n",
    "        print(f\"\\nAlgorithm: {algo.get_name()}\")\n",
    "        print(f\"Best fitness: {champion_f:.6e}\")\n",
    "        print(f\"Best solution: {champion_x}\")\n",
    "        \n",
    "    return results"
   ]
  },
  {
   "cell_type": "code",
   "execution_count": 6,
   "id": "d95626a5-bd1e-4dbd-bb0c-875cd0dc79ed",
   "metadata": {},
   "outputs": [
    {
     "name": "stdout",
     "output_type": "stream",
     "text": [
      "\n",
      "Optimizing Sphere Function\n",
      "==================================================\n",
      "\n",
      "Algorithm: DE: Differential Evolution\n",
      "Best fitness: 1.862914e-01\n",
      "Best solution: [ 0.10647461  0.17489809  0.17028143  0.12540802 -0.10116355  0.0065398\n",
      "  0.05332241 -0.05803506 -0.21328949  0.19406612]\n",
      "\n",
      "Algorithm: saDE: Self-adaptive Differential Evolution\n",
      "Best fitness: 1.772390e-03\n",
      "Best solution: [ 0.00594402 -0.00418372 -0.00585206  0.00982015  0.00917113 -0.03381032\n",
      " -0.01118634  0.00231835  0.00697806  0.01350643]\n",
      "\n",
      "Algorithm: PSO: Particle Swarm Optimization\n",
      "Best fitness: 2.613315e-03\n",
      "Best solution: [-0.00415651  0.00586515 -0.02218753  0.02554349 -0.00518548 -0.0024105\n",
      " -0.00099272  0.02846362 -0.02194962 -0.00955159]\n",
      "\n",
      "Optimizing Rosenbrock Function\n",
      "==================================================\n",
      "\n",
      "Algorithm: DE: Differential Evolution\n",
      "Best fitness: 2.179894e+01\n",
      "Best solution: [-0.56039973  0.4412289   0.41643352  0.21459864  0.14321718  0.06541775\n",
      "  0.19637773 -0.10472694  0.02201096 -0.02369456]\n",
      "\n",
      "Algorithm: saDE: Self-adaptive Differential Evolution\n",
      "Best fitness: 6.887700e+00\n",
      "Best solution: [ 0.82186511  0.70955322  0.54907399  0.29882588  0.05602974 -0.02590483\n",
      "  0.02332172  0.00832561  0.00593982  0.07920756]\n",
      "\n",
      "Algorithm: PSO: Particle Swarm Optimization\n",
      "Best fitness: 7.956828e+00\n",
      "Best solution: [ 0.49558152  0.27421512  0.06893438  0.02065239  0.03362456  0.01656662\n",
      " -0.02189656  0.04509389  0.00883465 -0.01093584]\n"
     ]
    }
   ],
   "source": [
    "# Параметры задачи\n",
    "dimension = 10\n",
    "max_generations = 100\n",
    "population_size = 50\n",
    "\n",
    "# Создаем проблемы\n",
    "sphere_prob = pg.problem(Sphere(dimension))\n",
    "rosen_prob = pg.problem(Rosenbrock(dimension))\n",
    "\n",
    "# Настраиваем алгоритмы\n",
    "algorithms = [\n",
    "    # Дифференциальная эволюция\n",
    "    pg.algorithm(pg.de(gen=max_generations, F=0.8, CR=0.9)),\n",
    "    \n",
    "    # Самоадаптивная дифференциальная эволюция\n",
    "    pg.algorithm(pg.sade(gen=max_generations)),\n",
    "    \n",
    "    # Метод роя частиц\n",
    "    pg.algorithm(pg.pso(gen=max_generations, omega=0.7298, eta1=2.05, eta2=2.05))\n",
    "]\n",
    "\n",
    "# Оптимизируем обе функции\n",
    "sphere_results = optimize_and_print_results(sphere_prob, algorithms, \"Sphere Function\")\n",
    "rosen_results = optimize_and_print_results(rosen_prob, algorithms, \"Rosenbrock Function\")"
   ]
  },
  {
   "cell_type": "code",
   "execution_count": 8,
   "id": "25441bf0-0798-47f3-b73a-858c7d3524a7",
   "metadata": {},
   "outputs": [
    {
     "name": "stdout",
     "output_type": "stream",
     "text": [
      "\n",
      "Comparative Results:\n",
      "+--------------------------------------------+---------------+-------------------+\n",
      "| Algorithm                                  |   Sphere Best |   Rosenbrock Best |\n",
      "+============================================+===============+===================+\n",
      "| DE: Differential Evolution                 |       0.186   |             21.8  |\n",
      "+--------------------------------------------+---------------+-------------------+\n",
      "| saDE: Self-adaptive Differential Evolution |       0.00177 |              6.89 |\n",
      "+--------------------------------------------+---------------+-------------------+\n",
      "| PSO: Particle Swarm Optimization           |       0.00261 |              7.96 |\n",
      "+--------------------------------------------+---------------+-------------------+\n",
      "\n",
      "Analysis:\n",
      "--------------------------------------------------\n"
     ]
    }
   ],
   "source": [
    "# Создаем сравнительную таблицу\n",
    "table_data = []\n",
    "for s_res, r_res in zip(sphere_results, rosen_results):\n",
    "    table_data.append([\n",
    "        s_res['Algorithm'],\n",
    "        f\"{s_res['Best Fitness']:.2e}\",\n",
    "        f\"{r_res['Best Fitness']:.2e}\"\n",
    "    ])\n",
    "\n",
    "headers = ['Algorithm', 'Sphere Best', 'Rosenbrock Best', 'Sphere Evals', 'Rosenbrock Evals']\n",
    "print(\"\\nComparative Results:\")\n",
    "print(tabulate(table_data, headers=headers, tablefmt='grid'))\n",
    "\n",
    "# Анализ результатов\n",
    "print(\"\\nAnalysis:\")\n",
    "print(\"-\"*50)"
   ]
  },
  {
   "cell_type": "code",
   "execution_count": 10,
   "id": "a772bf84-e501-4c49-b642-b1d419b7cf3d",
   "metadata": {},
   "outputs": [
    {
     "name": "stdout",
     "output_type": "stream",
     "text": [
      "\n",
      "Sphere Function:\n",
      "Best performing algorithm: saDE: Self-adaptive Differential Evolution\n",
      "Best fitness achieved: 1.77e-03\n",
      "\n",
      "Rosenbrock Function:\n",
      "Best performing algorithm: saDE: Self-adaptive Differential Evolution\n",
      "Best fitness achieved: 6.89e+00\n"
     ]
    }
   ],
   "source": [
    "for func_results in [sphere_results, rosen_results]:\n",
    "    func_name = \"Sphere\" if func_results == sphere_results else \"Rosenbrock\"\n",
    "    best_algo = min(func_results, key=lambda x: x['Best Fitness'])\n",
    "    \n",
    "    print(f\"\\n{func_name} Function:\")\n",
    "    print(f\"Best performing algorithm: {best_algo['Algorithm']}\")\n",
    "    print(f\"Best fitness achieved: {best_algo['Best Fitness']:.2e}\")"
   ]
  },
  {
   "cell_type": "code",
   "execution_count": null,
   "id": "4c1b66df-b8e2-4ded-8619-663eac58c453",
   "metadata": {},
   "outputs": [],
   "source": []
  }
 ],
 "metadata": {
  "kernelspec": {
   "display_name": "Python 3 (ipykernel)",
   "language": "python",
   "name": "python3"
  },
  "language_info": {
   "codemirror_mode": {
    "name": "ipython",
    "version": 3
   },
   "file_extension": ".py",
   "mimetype": "text/x-python",
   "name": "python",
   "nbconvert_exporter": "python",
   "pygments_lexer": "ipython3",
   "version": "3.12.3"
  }
 },
 "nbformat": 4,
 "nbformat_minor": 5
}
